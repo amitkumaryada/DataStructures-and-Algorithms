{
 "cells": [
  {
   "cell_type": "code",
   "execution_count": null,
   "metadata": {},
   "outputs": [],
   "source": [
    "# Find Two Numbers that Add up to \"n\"\n",
    "lst=[2,3,4,5,6,7,8,9]\n",
    "value=10\n",
    "def findsum(lst,value):\n",
    "    for x in lst:\n",
    "        if value-x in lst:\n",
    "            a=x\n",
    "            b=value-x\n",
    "            return a,b\n",
    "        else:\n",
    "            pass\n",
    "    else:\n",
    "        print('there is no such a,b')\n",
    "        \n",
    "    \n",
    "def findsum1(lst,value):\n",
    "    for x in lst:\n",
    "        for y in lst:\n",
    "            if x+y==value:\n",
    "                return x,y\n",
    "            else:\n",
    "                pass\n",
    "    else:\n",
    "        print('there is no such x,y')\n",
    "        \n",
    "        \n",
    "def findsum2(lst,value):\n",
    "    for i in range(len(lst)):\n",
    "        for j in range(len(lst)):\n",
    "            if (lst[i]+lst[j]==value and i != j):\n",
    "                return lst[i],lst[j]\n",
    "        \n",
    "\n",
    "    \n",
    "def findSum3(lst,value):\n",
    "      foundValues = {}\n",
    "      for ele in lst:\n",
    "        try:\n",
    "          foundValues[value - ele]\n",
    "          return [value - ele, ele]\n",
    "        except:\n",
    "          foundValues[ele] = 0\n",
    "      return False\n",
    "\n",
    "print(findSum([1,3,2,4],6))\n",
    "    \n",
    "        "
   ]
  },
  {
   "cell_type": "code",
   "execution_count": null,
   "metadata": {},
   "outputs": [],
   "source": [
    "lst=[2,5,7,9,12,18,20]\n",
    "value=12\n",
    "# Given a sorted array arr[] of n elements, write a function to search a given element x in arr[].\n",
    "def binarySearch(lst,value):\n",
    "    idxlower=0\n",
    "    idxupper=len(lst)-1\n",
    "    idxmiddle=(idxlower+idxupper)//2\n",
    "    \n",
    "    while value > lst[idxmiddle]:\n",
    "        idxlower=idxmiddle +1\n",
    "        idxupper=len(lst)-1\n",
    "        idxmiddle=(idxlower+idxupper)//2\n",
    "        if lst[idxlower]==value:\n",
    "            return idxlower+1\n",
    "    while value < lst[idxmiddle]:\n",
    "        idxupper=idxmiddle -1\n",
    "        idxmiddle=(idxlower+idxupper)//2\n",
    "\n",
    "        if lst[idxmiddle]==value:\n",
    "  \n",
    "            return idxmiddle+1\n",
    "\n",
    "def binarySearch2(lst,value):\n",
    "    idxlower=0\n",
    "    idxupper=len(lst)-1\n",
    "    idxmiddle=(idxlower+idxupper)//2\n",
    "    \n",
    "    while idxlower<=idxupper:\n",
    "        idxmiddle=(idxlower+idxupper)//2\n",
    "        if value<lst[idxmiddle]:\n",
    "            idxupper=idxmiddle-1\n",
    "        elif value>lst[idxmiddle]:\n",
    "            idxlower=idxmiddle+1\n",
    "        if value==lst[idxmiddle]:\n",
    "            return idxmiddle,lst[idxmiddle]\n",
    "            \n",
    "            \n",
    "        \n",
    "            \n",
    "binarySearch2([2,3,4,10,40],40)\n",
    "        \n",
    "\n",
    "        \n",
    "        "
   ]
  },
  {
   "cell_type": "code",
   "execution_count": 20,
   "metadata": {},
   "outputs": [],
   "source": [
    "# Given a list, return a list where each index stores the product of all numbers in the list \n",
    "#except the number at the index itself.\n",
    "\n",
    "def findproduct(lst):\n",
    "    prod=1\n",
    "    reqlst=[]\n",
    "    for i in lst:\n",
    "        prod*=i\n",
    "    for x in lst:\n",
    "        reqlst.append(prod//x)\n",
    "    return reqlst\n",
    "\n",
    "def findproduct2(lst):\n",
    "    i=0\n",
    "    idx_end=len(lst)\n",
    "    mult=1\n",
    "    reqlst=[]\n",
    "    while i < idx_end:\n",
    "        mult*=lst[i]\n",
    "        i+=1\n",
    "    for j in lst:\n",
    "        reqlst.append(mult//j)\n",
    "    return reqlst\n",
    "        \n",
    "        \n",
    "    \n",
    "        \n",
    "            \n",
    "    "
   ]
  },
  {
   "cell_type": "code",
   "execution_count": 21,
   "metadata": {},
   "outputs": [
    {
     "data": {
      "text/plain": [
       "[60, 40, 30, 24]"
      ]
     },
     "execution_count": 21,
     "metadata": {},
     "output_type": "execute_result"
    }
   ],
   "source": [
    "findproduct2([2,3,4,5])"
   ]
  },
  {
   "cell_type": "code",
   "execution_count": null,
   "metadata": {},
   "outputs": [],
   "source": [
    "mult"
   ]
  },
  {
   "cell_type": "code",
   "execution_count": null,
   "metadata": {},
   "outputs": [],
   "source": []
  }
 ],
 "metadata": {
  "kernelspec": {
   "display_name": "Python 3",
   "language": "python",
   "name": "python3"
  },
  "language_info": {
   "codemirror_mode": {
    "name": "ipython",
    "version": 3
   },
   "file_extension": ".py",
   "mimetype": "text/x-python",
   "name": "python",
   "nbconvert_exporter": "python",
   "pygments_lexer": "ipython3",
   "version": "3.6.5"
  }
 },
 "nbformat": 4,
 "nbformat_minor": 2
}
